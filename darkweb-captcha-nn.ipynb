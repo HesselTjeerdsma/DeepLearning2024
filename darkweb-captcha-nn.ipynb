{
 "cells": [
  {
   "cell_type": "code",
   "execution_count": null,
   "metadata": {},
   "outputs": [],
   "source": [
    "from models import FixedLengthCRNN, VariableLengthCRNN"
   ]
  },
  {
   "cell_type": "markdown",
   "metadata": {},
   "source": [
    "# Fixed length CAPTCHA"
   ]
  },
  {
   "cell_type": "markdown",
   "metadata": {},
   "source": [
    "# Variable length CAPTCHA model"
   ]
  },
  {
   "cell_type": "markdown",
   "metadata": {},
   "source": [
    "### Model Architecture Overview\n",
    "\n",
    "#### Input Layer\n",
    "- **Size**: Match preprocessed CAPTCHA images, e.g., `(60, 160, 1)` for height, width, and channels (for grayscale images).\n",
    "\n",
    "#### Convolutional Layers\n",
    "- **Purpose**: Extract features. Increase depth while reducing spatial dimensions through pooling.\n",
    "- **Configuration**: Several convolutional layers, each followed by max pooling layers.\n",
    "\n",
    "#### Recurrent Layer\n",
    "- **Type**: RNN with LSTM or GRU units.\n",
    "- **Purpose**: Process features in sequence, crucial for recognizing characters in CAPTCHA.\n",
    "\n",
    "#### Dense Layer with Softmax\n",
    "- **Function**: Multi-class classification for each character position in the CAPTCHA.\n",
    "- **Activation**: Softmax, to output probabilities for each possible character.\n",
    "\n",
    "#### Connectionist Temporal Classification (CTC) Loss\n",
    "- **Purpose**: Handle variable length of CAPTCHA strings and alignment between inputs and targets.\n",
    "\n",
    "### Rationale\n",
    "- **CNN + RNN**: CNNs are excellent for spatial feature extraction, RNNs understand sequence dynamics. This combo is effective for spatial and sequential recognition tasks like CAPTCHA.\n",
    "- **CTC Loss**: Ideal for sequence recognition with variable lengths and unknown alignment."
   ]
  },
  {
   "cell_type": "code",
   "execution_count": null,
   "metadata": {},
   "outputs": [],
   "source": [
    "import torch\n",
    "import torch.nn as nn\n",
    "import torch.nn.functional as F\n",
    "\n",
    "# Model architecture\n",
    "class VariableCRNN(nn.Module):\n",
    "    def __init__(self):\n",
    "        super(VariableCRNN, self).__init__()\n",
    "        self.conv1 = nn.Conv2d(1, 32, kernel_size=(3, 3), activation='relu')\n",
    "        self.pool1 = nn.MaxPool2d((2, 2))\n",
    "        self.conv2 = nn.Conv2d(32, 64, kernel_size=(3, 3), activation='relu')\n",
    "        self.pool2 = nn.MaxPool2d((2, 2))\n",
    "        self.conv3 = nn.Conv2d(64, 64, kernel_size=(3, 3), activation='relu')\n",
    "        self.rnn_input_size = 64 * 15 * 40  # Update according to the output shape after conv layers\n",
    "        self.lstm = nn.LSTM(self.rnn_input_size, 128, bidirectional=True, batch_first=True)\n",
    "        self.fc = nn.Linear(256, 11)  # 128 * 2 for bidirectional, 10 + 1 for classes\n",
    "\n",
    "    def forward(self, x):\n",
    "        x = F.relu(self.conv1(x))\n",
    "        x = self.pool1(x)\n",
    "        x = F.relu(self.conv2(x))\n",
    "        x = self.pool2(x)\n",
    "        x = F.relu(self.conv3(x))\n",
    "        x = x.view(x.size(0), -1)  # Flatten\n",
    "        x, _ = self.lstm(x)\n",
    "        x = self.fc(x)\n",
    "        return x\n",
    "\n",
    "# Custom CTC Loss\n",
    "# In PyTorch, CTC Loss is already implemented and can be used directly.\n",
    "# You will need to provide logits from your model, target (labels), input_lengths, and target_lengths\n",
    "ctc_loss = nn.CTCLoss()\n",
    "\n",
    "# Example on how to calculate CTC Loss\n",
    "# logits: tensor of shape (T, N, C) where T is the maximum sequence length, N is the batch size, C is the number of classes (including blank)\n",
    "# labels: tensor of shape (sum(target_lengths))\n",
    "# input_lengths: tensor of size (N)\n",
    "# target_lengths: tensor of size (N)\n",
    "# loss = ctc_loss(logits, labels, input_lengths, target_lengths)\n",
    "\n",
    "# Note: Make sure to use log_softmax on your output logits before passing them to CTC loss\n"
   ]
  },
  {
   "cell_type": "markdown",
   "metadata": {},
   "source": [
    "# Model training"
   ]
  },
  {
   "cell_type": "code",
   "execution_count": null,
   "metadata": {},
   "outputs": [],
   "source": [
    "from torch.utils.data import Dataset, DataLoader\n",
    "from torchvision import transforms\n",
    "from PIL import Image\n",
    "import os\n",
    "\n",
    "class DigitsDataset(Dataset):\n",
    "    def __init__(self, directory):\n",
    "        self.directory = directory\n",
    "        self.filenames = os.listdir(directory)\n",
    "        self.transform = transforms.Compose([\n",
    "            transforms.Resize((46, 160)),  # Resize if your images aren't already 160x46\n",
    "            transforms.ToTensor(),  # Convert images to PyTorch tensors\n",
    "        ])\n",
    "\n",
    "    def __len__(self):\n",
    "        return len(self.filenames)\n",
    "\n",
    "    def __getitem__(self, idx):\n",
    "        path = os.path.join(self.directory, self.filenames[idx])\n",
    "        image = Image.open(path).convert('RGB')  # Ensure image is in RGB\n",
    "        image = self.transform(image)\n",
    "        label = os.path.splitext(self.filenames[idx])[0]  # Assumes filename is the label\n",
    "        label = torch.tensor([int(ch) for ch in label], dtype=torch.long)\n",
    "        return image, label"
   ]
  },
  {
   "cell_type": "code",
   "execution_count": null,
   "metadata": {},
   "outputs": [],
   "source": [
    "from torch import optim\n",
    "\n",
    "# Initialize dataset and data loader\n",
    "dataset = DigitsDataset('/path/to/your/dataset')\n",
    "data_loader = DataLoader(dataset, batch_size=32, shuffle=True)\n",
    "\n",
    "# Initialize the model, loss function, and optimizer\n",
    "model = FixedLengthCRNN()\n",
    "loss_function = nn.CrossEntropyLoss()\n",
    "optimizer = optim.Adam(model.parameters(), lr=0.001)\n",
    "\n",
    "# Training loop\n",
    "for epoch in range(num_epochs):\n",
    "    for images, labels in data_loader:\n",
    "        optimizer.zero_grad()\n",
    "        \n",
    "        outputs = model(images)\n",
    "        \n",
    "        # Since outputs are in shape (batch_size, 4, 36) and labels are (batch_size, 4),\n",
    "        # you need to calculate the loss for each digit and sum up.\n",
    "        loss = sum([loss_function(outputs[:, i], labels[:, i]) for i in range(4)])\n",
    "        \n",
    "        loss.backward()\n",
    "        optimizer.step()\n",
    "\n",
    "    print(f'Epoch {epoch+1}, Loss: {loss.item()}')\n"
   ]
  }
 ],
 "metadata": {
  "language_info": {
   "name": "python"
  }
 },
 "nbformat": 4,
 "nbformat_minor": 2
}
